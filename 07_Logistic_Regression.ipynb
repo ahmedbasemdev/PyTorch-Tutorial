{
  "nbformat": 4,
  "nbformat_minor": 0,
  "metadata": {
    "colab": {
      "provenance": [],
      "collapsed_sections": [],
      "authorship_tag": "ABX9TyMUFRx7DcYHDXTJ6v0BxQZ8",
      "include_colab_link": true
    },
    "kernelspec": {
      "name": "python3",
      "display_name": "Python 3"
    },
    "language_info": {
      "name": "python"
    }
  },
  "cells": [
    {
      "cell_type": "markdown",
      "metadata": {
        "id": "view-in-github",
        "colab_type": "text"
      },
      "source": [
        "<a href=\"https://colab.research.google.com/github/ahmedbasemdev/PyTorch-Tutorial/blob/main/07_Logistic_Regression.ipynb\" target=\"_parent\"><img src=\"https://colab.research.google.com/assets/colab-badge.svg\" alt=\"Open In Colab\"/></a>"
      ]
    },
    {
      "cell_type": "code",
      "source": [
        "import torch\n",
        "import torch.nn as nn\n",
        "import numpy as np\n",
        "import matplotlib.pyplot as plt\n",
        "from sklearn import datasets\n",
        "from sklearn.preprocessing import StandardScaler\n",
        "from sklearn.model_selection import train_test_split"
      ],
      "metadata": {
        "id": "SbqJrI-Dm8Yw"
      },
      "execution_count": 2,
      "outputs": []
    },
    {
      "cell_type": "markdown",
      "source": [
        "Construct the train pipeline      \n",
        "[1] Design model (input, output size , forward pass)    \n",
        "[2] loss and optimizer   \n",
        "[3] Training Loop\n",
        "\n",
        "* forward pass : compute the prediction   \n",
        "* backward pass : gradient   \n",
        "* update weights\n"
      ],
      "metadata": {
        "id": "8nMDJ80qm7pw"
      }
    },
    {
      "cell_type": "markdown",
      "source": [
        "## 0) Prepare data"
      ],
      "metadata": {
        "id": "dtMypnrfntd3"
      }
    },
    {
      "cell_type": "code",
      "source": [
        "bc = datasets.load_breast_cancer()\n",
        "X, Y =bc.data , bc.target"
      ],
      "metadata": {
        "id": "WAO-EGb3nrjQ"
      },
      "execution_count": 3,
      "outputs": []
    },
    {
      "cell_type": "code",
      "execution_count": 28,
      "metadata": {
        "colab": {
          "base_uri": "https://localhost:8080/"
        },
        "id": "R90jIpTBmn6G",
        "outputId": "0e62ce27-e293-4450-b00b-51f855790c38"
      },
      "outputs": [
        {
          "output_type": "execute_result",
          "data": {
            "text/plain": [
              "30"
            ]
          },
          "metadata": {},
          "execution_count": 28
        }
      ],
      "source": [
        "nSamples , nFeatures = X.shape\n",
        "nFeatures"
      ]
    },
    {
      "cell_type": "code",
      "source": [
        "xTrain , xTest , yTrain , yTest = train_test_split(X,Y,test_size = 0.20 , random_state = 42)"
      ],
      "metadata": {
        "id": "PHLnp3a3p4dA"
      },
      "execution_count": 48,
      "outputs": []
    },
    {
      "cell_type": "code",
      "source": [
        "sc = StandardScaler()\n",
        "\n",
        "xTrain = sc.fit_transform(xTrain)\n",
        "xTest= sc.transform(xTest)"
      ],
      "metadata": {
        "id": "2ily6FadqQZ-"
      },
      "execution_count": 49,
      "outputs": []
    },
    {
      "cell_type": "code",
      "source": [
        "type(xTrain)"
      ],
      "metadata": {
        "colab": {
          "base_uri": "https://localhost:8080/"
        },
        "id": "_MOLzGQnqc9v",
        "outputId": "59764176-2d58-4a22-a861-759793b63d38"
      },
      "execution_count": 50,
      "outputs": [
        {
          "output_type": "execute_result",
          "data": {
            "text/plain": [
              "numpy.ndarray"
            ]
          },
          "metadata": {},
          "execution_count": 50
        }
      ]
    },
    {
      "cell_type": "code",
      "source": [
        "x_train = torch.from_numpy(xTrain.astype(np.float32))\n",
        "x_test = torch.from_numpy(xTest.astype(np.float32))\n",
        "y_train = torch.from_numpy(yTrain.astype(np.float32))\n",
        "y_test = torch.from_numpy(yTest.astype(np.float32))"
      ],
      "metadata": {
        "id": "9F9E4CLBrIpg"
      },
      "execution_count": 51,
      "outputs": []
    },
    {
      "cell_type": "code",
      "source": [
        "y_train = y_train.view(y_train.shape[0],1)\n",
        "y_test = y_test.view(y_test.shape[0],1)"
      ],
      "metadata": {
        "id": "ihvzZgE9rR4P"
      },
      "execution_count": 52,
      "outputs": []
    },
    {
      "cell_type": "markdown",
      "source": [
        "## 1) Model"
      ],
      "metadata": {
        "id": "AfWKxSKcskAv"
      }
    },
    {
      "cell_type": "code",
      "source": [
        "class LogisticRegression(nn.Module):\n",
        "\n",
        "  def __init__(self,nInputFeatures):\n",
        "    super(LogisticRegression,self).__init__()\n",
        "\n",
        "    self.linear = nn.Linear(nInputFeatures,1)\n",
        "\n",
        "  def forward(self,x):\n",
        "    yPrediction = torch.sigmoid(self.linear(x))\n",
        "    return yPrediction"
      ],
      "metadata": {
        "id": "T-AoGsQAr08_"
      },
      "execution_count": 53,
      "outputs": []
    },
    {
      "cell_type": "code",
      "source": [
        "model = LogisticRegression(nFeatures)"
      ],
      "metadata": {
        "id": "UF9hQopAu8SH"
      },
      "execution_count": 54,
      "outputs": []
    },
    {
      "cell_type": "markdown",
      "source": [
        "## 2) Loss and Optimizer "
      ],
      "metadata": {
        "id": "XSZzVcFlvcCI"
      }
    },
    {
      "cell_type": "code",
      "source": [
        "learingRate =0.01"
      ],
      "metadata": {
        "id": "RCnyZzjYvs3Z"
      },
      "execution_count": 55,
      "outputs": []
    },
    {
      "cell_type": "code",
      "source": [
        "criterion = nn.BCELoss()\n",
        "optimizer = torch.optim.SGD(model.parameters(),lr = learingRate)"
      ],
      "metadata": {
        "id": "Hh28C_xOvIvf"
      },
      "execution_count": 56,
      "outputs": []
    },
    {
      "cell_type": "markdown",
      "source": [
        "## 3) Training "
      ],
      "metadata": {
        "id": "QZrzO-LLyghW"
      }
    },
    {
      "cell_type": "code",
      "source": [
        "nEpochs = 100\n",
        "for epoch in range(nEpochs):\n",
        "\n",
        "  yPred = model(x_train)\n",
        "\n",
        "  loss = criterion(yPred , y_train)\n",
        "\n",
        "  loss.backward()\n",
        "\n",
        "  optimizer.step()\n",
        "\n",
        "  optimizer.zero_grad()\n",
        "\n",
        "  if epoch % 10 == 0:\n",
        "    print(f\"epoch is {epoch} , loss is {loss.item()}\")"
      ],
      "metadata": {
        "colab": {
          "base_uri": "https://localhost:8080/"
        },
        "id": "RBWmiDUTvw1I",
        "outputId": "2703aa1c-cc1a-4518-91c8-eff7528e08d3"
      },
      "execution_count": 59,
      "outputs": [
        {
          "output_type": "stream",
          "name": "stdout",
          "text": [
            "epoch is 0 , loss is 0.5541102886199951\n",
            "epoch is 10 , loss is 0.47288796305656433\n",
            "epoch is 20 , loss is 0.41786354780197144\n",
            "epoch is 30 , loss is 0.3780607581138611\n",
            "epoch is 40 , loss is 0.3478204607963562\n",
            "epoch is 50 , loss is 0.32397136092185974\n",
            "epoch is 60 , loss is 0.30460861325263977\n",
            "epoch is 70 , loss is 0.28852176666259766\n",
            "epoch is 80 , loss is 0.2749047875404358\n",
            "epoch is 90 , loss is 0.26320013403892517\n"
          ]
        }
      ]
    },
    {
      "cell_type": "code",
      "source": [
        "with torch.no_grad():\n",
        "  prediction = model(x_test)\n",
        "  predictionCls = prediction.round()\n",
        "  accuracy = predictionCls.eq(y_test).sum() / float(y_test.shape[0])\n",
        "  print(f'Accuracy is {accuracy}')"
      ],
      "metadata": {
        "colab": {
          "base_uri": "https://localhost:8080/"
        },
        "id": "9H4btsn4zB0J",
        "outputId": "d2c3a4af-021b-4f32-fd1e-66c7b1a0ae01"
      },
      "execution_count": 63,
      "outputs": [
        {
          "output_type": "stream",
          "name": "stdout",
          "text": [
            "Accuracy is 0.9561403393745422\n"
          ]
        }
      ]
    },
    {
      "cell_type": "code",
      "source": [],
      "metadata": {
        "colab": {
          "base_uri": "https://localhost:8080/"
        },
        "id": "5DB2FADhzY-e",
        "outputId": "07111c44-4eb3-4f0c-d19b-c120bd3512de"
      },
      "execution_count": 61,
      "outputs": [
        {
          "output_type": "execute_result",
          "data": {
            "text/plain": [
              "5"
            ]
          },
          "metadata": {},
          "execution_count": 61
        }
      ]
    },
    {
      "cell_type": "code",
      "source": [],
      "metadata": {
        "id": "oA7hBJt62sWQ"
      },
      "execution_count": null,
      "outputs": []
    }
  ]
}