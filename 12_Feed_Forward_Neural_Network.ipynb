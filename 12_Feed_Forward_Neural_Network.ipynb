{
  "nbformat": 4,
  "nbformat_minor": 0,
  "metadata": {
    "colab": {
      "provenance": [],
      "collapsed_sections": [],
      "authorship_tag": "ABX9TyMW5Tr5IQOtTM/VM3HRTOFr",
      "include_colab_link": true
    },
    "kernelspec": {
      "name": "python3",
      "display_name": "Python 3"
    },
    "language_info": {
      "name": "python"
    },
    "accelerator": "GPU"
  },
  "cells": [
    {
      "cell_type": "markdown",
      "metadata": {
        "id": "view-in-github",
        "colab_type": "text"
      },
      "source": [
        "<a href=\"https://colab.research.google.com/github/ahmedbasemdev/PyTorch-Tutorial/blob/main/12_Feed_Forward_Neural_Network.ipynb\" target=\"_parent\"><img src=\"https://colab.research.google.com/assets/colab-badge.svg\" alt=\"Open In Colab\"/></a>"
      ]
    },
    {
      "cell_type": "code",
      "execution_count": 31,
      "metadata": {
        "id": "y04slQMBYPS9"
      },
      "outputs": [],
      "source": [
        "import torch\n",
        "import torch.nn as nn\n",
        "import torchvision\n",
        "import torchvision.transforms as transforms\n",
        "import matplotlib.pyplot as plt"
      ]
    },
    {
      "cell_type": "code",
      "source": [
        "# device config\n",
        "\n",
        "device = torch.device(\"cuda\" if torch.cuda.is_available() else 'cpu')\n",
        "device.type"
      ],
      "metadata": {
        "colab": {
          "base_uri": "https://localhost:8080/",
          "height": 36
        },
        "id": "V4n4_S9uYj7B",
        "outputId": "37c075cd-1eed-4f05-e285-ac90f5a8da07"
      },
      "execution_count": 32,
      "outputs": [
        {
          "output_type": "execute_result",
          "data": {
            "text/plain": [
              "'cuda'"
            ],
            "application/vnd.google.colaboratory.intrinsic+json": {
              "type": "string"
            }
          },
          "metadata": {},
          "execution_count": 32
        }
      ]
    },
    {
      "cell_type": "markdown",
      "source": [
        "### hyper Parameter"
      ],
      "metadata": {
        "id": "DOzo2_v4ZnO0"
      }
    },
    {
      "cell_type": "code",
      "source": [
        "inputSize = 784 # our images have size 28 * 28 , then we will flaten this array to be a 1D tensor\n",
        "hiddenState = 100\n",
        "nClasses = 10 # we have digit form 0 to 9\n",
        "nEpochs = 2\n",
        "batchSize = 100\n",
        "learningRate = 0.001"
      ],
      "metadata": {
        "id": "2f6bK4KrZj3V"
      },
      "execution_count": 33,
      "outputs": []
    },
    {
      "cell_type": "markdown",
      "source": [
        "## Load Data"
      ],
      "metadata": {
        "id": "ll1-HFIraKw0"
      }
    },
    {
      "cell_type": "code",
      "source": [
        "trainData = torchvision.datasets.MNIST(root='./data',train=True,\n",
        "                                       transform=transforms.ToTensor(),download=True)\n",
        "testData = torchvision.datasets.MNIST(root='./data',train=False,\n",
        "                                       transform=transforms.ToTensor())"
      ],
      "metadata": {
        "id": "z_05IoL5aBkU"
      },
      "execution_count": 34,
      "outputs": []
    },
    {
      "cell_type": "code",
      "source": [
        "trainLoader = torch.utils.data.DataLoader(dataset=trainData , batch_size=batchSize , shuffle=True)\n",
        "testLoader = torch.utils.data.DataLoader(dataset=testData , batch_size = batchSize , shuffle=True)"
      ],
      "metadata": {
        "id": "xY_gcKdobMBl"
      },
      "execution_count": 35,
      "outputs": []
    },
    {
      "cell_type": "code",
      "source": [
        "examples = iter(trainLoader)\n",
        "samples , labels = next(examples)\n",
        "print(samples.shape , labels.shape)"
      ],
      "metadata": {
        "colab": {
          "base_uri": "https://localhost:8080/"
        },
        "id": "yqGByxY9fVj_",
        "outputId": "59f2aa3b-c312-4982-a1cd-c196bb2605b0"
      },
      "execution_count": 36,
      "outputs": [
        {
          "output_type": "stream",
          "name": "stdout",
          "text": [
            "torch.Size([100, 1, 28, 28]) torch.Size([100])\n"
          ]
        }
      ]
    },
    {
      "cell_type": "markdown",
      "source": [
        "batch size , color channel , height , width"
      ],
      "metadata": {
        "id": "fm9lpC-egLEU"
      }
    },
    {
      "cell_type": "code",
      "source": [
        "for i in range(6):\n",
        "  plt.subplot(2,3,i +1 )\n",
        "  plt.imshow(samples[i][0],cmap='gray')"
      ],
      "metadata": {
        "colab": {
          "base_uri": "https://localhost:8080/",
          "height": 267
        },
        "id": "O-v70TQ2f0QE",
        "outputId": "14da6468-3d89-438b-cf13-0f0fba54a504"
      },
      "execution_count": 37,
      "outputs": [
        {
          "output_type": "display_data",
          "data": {
            "text/plain": [
              "<Figure size 432x288 with 6 Axes>"
            ],
            "image/png": "[encoded data removed]"
          },
          "metadata": {
            "needs_background": "light"
          }
        }
      ]
    },
    {
      "cell_type": "code",
      "source": [
        "class NeuralNet(nn.Module):\n",
        "\n",
        "  def __init__(self,inputSize,hiddenState , numClasses):\n",
        "    super(NeuralNet,self).__init__()\n",
        "\n",
        "    self.inputSize = inputSize\n",
        "    self.linear1 = nn.Linear(inputSize, hiddenState) \n",
        "    self.relu = nn.ReLU()\n",
        "    self.linear2 = nn.Linear(hiddenState, numClasses)  \n",
        "\n",
        "    \n",
        "  \n",
        "  def forward(self,x):\n",
        "    out = self.linear1(x)\n",
        "    out = self.relu(out)\n",
        "    out = self.linear2(out)\n",
        "    return out"
      ],
      "metadata": {
        "id": "K86mMsE3geGu"
      },
      "execution_count": 38,
      "outputs": []
    },
    {
      "cell_type": "code",
      "source": [
        "model = NeuralNet(inputSize , hiddenState,nClasses).to(device)"
      ],
      "metadata": {
        "id": "G4biExD5iKW9"
      },
      "execution_count": 39,
      "outputs": []
    },
    {
      "cell_type": "markdown",
      "source": [
        "## Loss and Optimizer"
      ],
      "metadata": {
        "id": "RfPHIwLNit8E"
      }
    },
    {
      "cell_type": "code",
      "source": [
        "criterion = nn.CrossEntropyLoss()\n",
        "optimizer = torch.optim.Adam(model.parameters() , lr=learningRate)"
      ],
      "metadata": {
        "id": "QaM11Eofin7r"
      },
      "execution_count": 40,
      "outputs": []
    },
    {
      "cell_type": "markdown",
      "source": [
        "## Training Loop"
      ],
      "metadata": {
        "id": "FFzzFrAKjFt8"
      }
    },
    {
      "cell_type": "code",
      "source": [
        "nTotalSteps = len(trainLoader)\n",
        "nTotalSteps"
      ],
      "metadata": {
        "colab": {
          "base_uri": "https://localhost:8080/"
        },
        "id": "9VsgRs4Zi_6d",
        "outputId": "d8f62957-d67c-4ea4-e245-462eec7e5cf8"
      },
      "execution_count": 41,
      "outputs": [
        {
          "output_type": "execute_result",
          "data": {
            "text/plain": [
              "600"
            ]
          },
          "metadata": {},
          "execution_count": 41
        }
      ]
    },
    {
      "cell_type": "code",
      "source": [
        "for epoch in range(nEpochs):\n",
        "\n",
        "  for i , (images , labels) in enumerate(trainLoader):\n",
        "\n",
        "    # to device pushes the tensor to the gpu if avaible\n",
        "    images = images.reshape(-1,28*28).to(device)\n",
        "    labels = labels.to(device)\n",
        "\n",
        "\n",
        "    outputs  = model(images)\n",
        "\n",
        "    loss = criterion(outputs,labels)\n",
        "\n",
        "    optimizer.zero_grad()\n",
        "\n",
        "    loss.backward()\n",
        "\n",
        "    optimizer.step()\n",
        "\n",
        "    if (i+1) % 100 == 0:\n",
        "      print(f\"epoch {epoch+1} / {nEpochs} , step {i+1}/{nTotalSteps} , Loss= {loss.item():.4f}\")\n",
        "\n"
      ],
      "metadata": {
        "colab": {
          "base_uri": "https://localhost:8080/"
        },
        "id": "3vHKo-6SkXeN",
        "outputId": "592c5a2c-749c-4985-a377-a85abb74da9c"
      },
      "execution_count": 43,
      "outputs": [
        {
          "output_type": "stream",
          "name": "stdout",
          "text": [
            "epoch 1 / 2 , step 100/600 , Loss= 0.4901\n",
            "epoch 1 / 2 , step 200/600 , Loss= 0.3259\n",
            "epoch 1 / 2 , step 300/600 , Loss= 0.2537\n",
            "epoch 1 / 2 , step 400/600 , Loss= 0.2821\n",
            "epoch 1 / 2 , step 500/600 , Loss= 0.2331\n",
            "epoch 1 / 2 , step 600/600 , Loss= 0.3124\n",
            "epoch 2 / 2 , step 100/600 , Loss= 0.2627\n",
            "epoch 2 / 2 , step 200/600 , Loss= 0.1494\n",
            "epoch 2 / 2 , step 300/600 , Loss= 0.1298\n",
            "epoch 2 / 2 , step 400/600 , Loss= 0.2572\n",
            "epoch 2 / 2 , step 500/600 , Loss= 0.1606\n",
            "epoch 2 / 2 , step 600/600 , Loss= 0.0929\n"
          ]
        }
      ]
    },
    {
      "cell_type": "code",
      "source": [
        "with torch.no_grad():\n",
        "  nCorrect = 0\n",
        "  nSamples = 0\n",
        "\n",
        "  for images , labels in testLoader:\n",
        "    images = images.reshape(-1,28*28).to(device)\n",
        "    labels = labels.to(device)\n",
        "\n",
        "    outputs = model(images)\n",
        "\n",
        "    # returns the value , index we are interseted in the actual index\n",
        "    _ , prediction = torch.max(outputs,1)\n",
        "\n",
        "\n",
        "    nSamples += labels.shape[0]\n",
        "\n",
        "    nCorrect += (prediction == labels).sum().item()\n",
        "  accuracy = 100* (nCorrect / nSamples)\n",
        "\n",
        "  print(f\"accuracy = {accuracy}\")\n"
      ],
      "metadata": {
        "colab": {
          "base_uri": "https://localhost:8080/"
        },
        "id": "J1SO5EcXmv5K",
        "outputId": "ab7a3a5a-5024-43c8-cbde-064b7b464340"
      },
      "execution_count": 51,
      "outputs": [
        {
          "output_type": "stream",
          "name": "stdout",
          "text": [
            "accuracy = 95.78\n"
          ]
        }
      ]
    },
    {
      "cell_type": "code",
      "source": [],
      "metadata": {
        "id": "vObZMoInpbHq"
      },
      "execution_count": null,
      "outputs": []
    }
  ]
}