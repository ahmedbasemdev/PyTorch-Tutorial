{
  "nbformat": 4,
  "nbformat_minor": 0,
  "metadata": {
    "colab": {
      "provenance": [],
      "authorship_tag": "ABX9TyPl43K7Xj2bt6tCjhsdFVnn",
      "include_colab_link": true
    },
    "kernelspec": {
      "name": "python3",
      "display_name": "Python 3"
    },
    "language_info": {
      "name": "python"
    }
  },
  "cells": [
    {
      "cell_type": "markdown",
      "metadata": {
        "id": "view-in-github",
        "colab_type": "text"
      },
      "source": [
        "<a href=\"https://colab.research.google.com/github/ahmedbasemdev/PyTorch-Tutorial/blob/main/04_Gradient_Descent_with_Autograd_and_Backpropagation.ipynb\" target=\"_parent\"><img src=\"https://colab.research.google.com/assets/colab-badge.svg\" alt=\"Open In Colab\"/></a>"
      ]
    },
    {
      "cell_type": "code",
      "execution_count": null,
      "metadata": {
        "id": "o7vx3C9ApYmE"
      },
      "outputs": [],
      "source": [
        "import torch\n",
        "import numpy as np"
      ]
    },
    {
      "cell_type": "markdown",
      "source": [
        "## implemening Linear Regression \n",
        "### f = w  * x\n",
        "### y = 2 * x"
      ],
      "metadata": {
        "id": "Co33Uwa0rHn1"
      }
    },
    {
      "cell_type": "code",
      "source": [
        "X = np.array([1,2,3,4],dtype=np.float32)\n",
        "Y = np.array([2,4,6,8],dtype=np.float32)\n",
        "\n",
        "W = 0.0"
      ],
      "metadata": {
        "id": "tzQ0ulKzpbYm"
      },
      "execution_count": null,
      "outputs": []
    },
    {
      "cell_type": "markdown",
      "source": [
        "## Model Prediction"
      ],
      "metadata": {
        "id": "JMY7lCE6sGCE"
      }
    },
    {
      "cell_type": "code",
      "source": [
        "def forward(x):\n",
        "  return W * x"
      ],
      "metadata": {
        "id": "kSntuJrDruyH"
      },
      "execution_count": null,
      "outputs": []
    },
    {
      "cell_type": "markdown",
      "source": [
        "## loss = MSE"
      ],
      "metadata": {
        "id": "lUWe8gG1sI8k"
      }
    },
    {
      "cell_type": "code",
      "source": [
        "def computeLoss(y,yHat):\n",
        "  return ((yHat - y)**2).mean()"
      ],
      "metadata": {
        "id": "hK7F64vQryhf"
      },
      "execution_count": null,
      "outputs": []
    },
    {
      "cell_type": "markdown",
      "source": [
        "## Gradient\n",
        "\n",
        "### MSE = 1 / N * (W*X -y )**2\n",
        "### dJ/dW = 1/N * 2x (w*x -y )\n"
      ],
      "metadata": {
        "id": "OeL-15basL5W"
      }
    },
    {
      "cell_type": "code",
      "source": [
        "def gradient(x,y ,yHat):\n",
        "  return np.dot(2*x,yHat-y).mean()"
      ],
      "metadata": {
        "id": "X7FYsKjmsAak"
      },
      "execution_count": null,
      "outputs": []
    },
    {
      "cell_type": "code",
      "source": [
        "print(f\"Prediction before the training f(5) {forward(5)}\")"
      ],
      "metadata": {
        "colab": {
          "base_uri": "https://localhost:8080/"
        },
        "id": "lDvZRfyayJKt",
        "outputId": "ee4950cc-4e51-4398-8999-9bcc231bcf08"
      },
      "execution_count": null,
      "outputs": [
        {
          "output_type": "stream",
          "name": "stdout",
          "text": [
            "Prediction before the training f(5) 0.0\n"
          ]
        }
      ]
    },
    {
      "cell_type": "markdown",
      "source": [
        "## Training "
      ],
      "metadata": {
        "id": "SrA1B6e4zso8"
      }
    },
    {
      "cell_type": "code",
      "source": [
        "learningRate = 0.01\n",
        "nIters = 20"
      ],
      "metadata": {
        "id": "-sKSrBXMznAV"
      },
      "execution_count": null,
      "outputs": []
    },
    {
      "cell_type": "code",
      "source": [
        "for epoch in range(nIters):\n",
        "  # prediction forward pass\n",
        "  yPred = forward(X)\n",
        "\n",
        "  # loss\n",
        "  loss = computeLoss(Y,yPred)\n",
        "\n",
        "  #gradient\n",
        "  dw = gradient(X,Y,yPred)\n",
        "\n",
        "  # updata Weights\n",
        "  W -= learningRate * dw\n",
        "\n",
        "  if epoch % 2 == 0:\n",
        "    print(f\"epoch {epoch+ 1 } : w {W:.3f} , Loss = {loss:.8f}\")"
      ],
      "metadata": {
        "colab": {
          "base_uri": "https://localhost:8080/"
        },
        "id": "cifmOiWGzy21",
        "outputId": "f23a46e3-45d0-4bc0-bf3f-cf27d3e5d76c"
      },
      "execution_count": null,
      "outputs": [
        {
          "output_type": "stream",
          "name": "stdout",
          "text": [
            "epoch 1 : w 1.200 , Loss = 30.00000000\n",
            "epoch 3 : w 1.872 , Loss = 0.76800019\n",
            "epoch 5 : w 1.980 , Loss = 0.01966083\n",
            "epoch 7 : w 1.997 , Loss = 0.00050331\n",
            "epoch 9 : w 1.999 , Loss = 0.00001288\n",
            "epoch 11 : w 2.000 , Loss = 0.00000033\n",
            "epoch 13 : w 2.000 , Loss = 0.00000001\n",
            "epoch 15 : w 2.000 , Loss = 0.00000000\n",
            "epoch 17 : w 2.000 , Loss = 0.00000000\n",
            "epoch 19 : w 2.000 , Loss = 0.00000000\n"
          ]
        }
      ]
    },
    {
      "cell_type": "code",
      "source": [
        "print(f\"Prediction After the training f(5) {forward(5):.3f}\")"
      ],
      "metadata": {
        "colab": {
          "base_uri": "https://localhost:8080/"
        },
        "id": "3-xLNKH4z24c",
        "outputId": "aba36cb3-e98a-43c5-eb3e-558b2d8ab36a"
      },
      "execution_count": null,
      "outputs": [
        {
          "output_type": "stream",
          "name": "stdout",
          "text": [
            "Prediction After the training f(5) 10.000\n"
          ]
        }
      ]
    },
    {
      "cell_type": "code",
      "source": [],
      "metadata": {
        "id": "HK6KLLmu0jJe"
      },
      "execution_count": null,
      "outputs": []
    },
    {
      "cell_type": "code",
      "source": [],
      "metadata": {
        "id": "d7OxvEDa2wsM"
      },
      "execution_count": null,
      "outputs": []
    },
    {
      "cell_type": "code",
      "source": [],
      "metadata": {
        "id": "6MbCHa982xSu"
      },
      "execution_count": null,
      "outputs": []
    },
    {
      "cell_type": "markdown",
      "source": [
        "# Using Torch"
      ],
      "metadata": {
        "id": "82Pb5Y3J2yRk"
      }
    },
    {
      "cell_type": "code",
      "source": [
        "X = torch.tensor([1,2,3,4],dtype=torch.float32)\n",
        "Y = torch.tensor([2,4,6,8],dtype=torch.float32)\n",
        "W = torch.tensor(0.0 ,dtype=torch.float32 , requires_grad=True)"
      ],
      "metadata": {
        "id": "bcmYz48c2xh1"
      },
      "execution_count": null,
      "outputs": []
    },
    {
      "cell_type": "code",
      "source": [],
      "metadata": {
        "id": "Y_h7WVl73EJk"
      },
      "execution_count": null,
      "outputs": []
    },
    {
      "cell_type": "code",
      "source": [
        "for epoch in range(nIters):\n",
        "  # prediction forward pass\n",
        "  yPred = forward(X)\n",
        "\n",
        "  # loss\n",
        "  loss = computeLoss(Y,yPred)\n",
        "\n",
        "  #gradient\n",
        "  loss.backward()\n",
        "\n",
        "  # updata Weights\n",
        "  with torch.no_grad():\n",
        "\n",
        "    W -= learningRate * W.grad\n",
        "  W.grad.zero_()\n",
        "\n",
        "  if epoch % 2 == 0:\n",
        "    print(f\"epoch {epoch+ 1 } : w {W:.3f} , Loss = {loss:.8f}\")"
      ],
      "metadata": {
        "colab": {
          "base_uri": "https://localhost:8080/"
        },
        "id": "TrRqZSSA3ZFE",
        "outputId": "ae834171-f6a8-46a8-a92d-24dc1cf03c44"
      },
      "execution_count": null,
      "outputs": [
        {
          "output_type": "stream",
          "name": "stdout",
          "text": [
            "epoch 1 : w 0.600 , Loss = 30.00000000\n",
            "epoch 3 : w 0.988 , Loss = 10.62075043\n",
            "epoch 5 : w 1.269 , Loss = 5.54409885\n",
            "epoch 7 : w 1.472 , Loss = 2.89405489\n",
            "epoch 9 : w 1.619 , Loss = 1.51071453\n",
            "epoch 11 : w 1.724 , Loss = 0.78860277\n",
            "epoch 13 : w 1.801 , Loss = 0.41165543\n",
            "epoch 15 : w 1.856 , Loss = 0.21488687\n",
            "epoch 17 : w 1.896 , Loss = 0.11217232\n",
            "epoch 19 : w 1.925 , Loss = 0.05855469\n"
          ]
        }
      ]
    },
    {
      "cell_type": "code",
      "source": [],
      "metadata": {
        "id": "woI5MrfH3lit"
      },
      "execution_count": null,
      "outputs": []
    }
  ]
}