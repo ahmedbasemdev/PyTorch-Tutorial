{
  "nbformat": 4,
  "nbformat_minor": 0,
  "metadata": {
    "colab": {
      "provenance": [],
      "collapsed_sections": [],
      "authorship_tag": "ABX9TyMsV+2dNTlKwApEq/yJFBVD",
      "include_colab_link": true
    },
    "kernelspec": {
      "name": "python3",
      "display_name": "Python 3"
    },
    "language_info": {
      "name": "python"
    }
  },
  "cells": [
    {
      "cell_type": "markdown",
      "metadata": {
        "id": "view-in-github",
        "colab_type": "text"
      },
      "source": [
        "<a href=\"https://colab.research.google.com/github/ahmedbasemdev/PyTorch-Tutorial/blob/main/05_Training_Pipeline_Model%2C_Loss%2C_and_Optimizer.ipynb\" target=\"_parent\"><img src=\"https://colab.research.google.com/assets/colab-badge.svg\" alt=\"Open In Colab\"/></a>"
      ]
    },
    {
      "cell_type": "code",
      "execution_count": 10,
      "metadata": {
        "id": "66awJy3h86sm"
      },
      "outputs": [],
      "source": [
        "import torch\n",
        "import torch.nn as nn"
      ]
    },
    {
      "cell_type": "code",
      "source": [],
      "metadata": {
        "id": "dJALyt7cBlgd"
      },
      "execution_count": null,
      "outputs": []
    },
    {
      "cell_type": "markdown",
      "source": [
        "## Construct the train pipeline\n",
        "### [1] Design model (input, output size , forward pass)\n",
        "### [2] loss and optimizer\n",
        "### [3] Training Loop\n",
        "###    - forward pass : compute the prediction\n",
        "###    - backward pass : gradient\n",
        "###    - update weights"
      ],
      "metadata": {
        "id": "57vQNrecBtCE"
      }
    },
    {
      "cell_type": "code",
      "source": [
        "X = torch.tensor([[1],[2],[3],[4]],dtype=torch.float32)\n",
        "Y = torch.tensor([[2],[4],[6],[8]],dtype=torch.float32)\n",
        "\n",
        "xTest = torch.tensor([5],dtype=torch.float32)\n",
        "nSamples , nFeatures = X.shape\n",
        "print(nSamples , nFeatures)\n"
      ],
      "metadata": {
        "colab": {
          "base_uri": "https://localhost:8080/"
        },
        "id": "xS5KCwfV9BQf",
        "outputId": "7ceb9554-7299-4778-ef2b-ffe93a3c21c3"
      },
      "execution_count": 33,
      "outputs": [
        {
          "output_type": "stream",
          "name": "stdout",
          "text": [
            "4 1\n"
          ]
        }
      ]
    },
    {
      "cell_type": "code",
      "source": [
        "#W = torch.tensor(0.0 ,dtype=torch.float32 , requires_grad=True)\n",
        "#def forward(x):\n",
        "#  return W * x\n",
        "inputSize = nFeatures\n",
        "outputSize = nFeatures\n",
        "model = nn.Linear(inputSize,outputSize)"
      ],
      "metadata": {
        "id": "QpCHS-WS9Fe4"
      },
      "execution_count": 34,
      "outputs": []
    },
    {
      "cell_type": "code",
      "source": [
        "# model predition \n",
        "print(f\"Prediction before the training f(5) {model(xTest).item()}\")\n"
      ],
      "metadata": {
        "colab": {
          "base_uri": "https://localhost:8080/"
        },
        "id": "DlNLwk88Aq8y",
        "outputId": "331dde60-7a26-4833-d6ce-1905e8030cd9"
      },
      "execution_count": 35,
      "outputs": [
        {
          "output_type": "stream",
          "name": "stdout",
          "text": [
            "Prediction before the training f(5) -5.404325485229492\n"
          ]
        }
      ]
    },
    {
      "cell_type": "code",
      "source": [
        "learningRate = 0.01\n",
        "nIters = 100"
      ],
      "metadata": {
        "id": "Rt-6PxIr-9Fi"
      },
      "execution_count": 36,
      "outputs": []
    },
    {
      "cell_type": "markdown",
      "source": [
        "## Loss "
      ],
      "metadata": {
        "id": "LfknTK8s9JNE"
      }
    },
    {
      "cell_type": "code",
      "source": [
        "#def computeLoss(y,yHat):\n",
        "#  return ((yHat - y)**2).mean()\n",
        "\n",
        "loss = nn.MSELoss()\n",
        "optimizer = torch.optim.SGD(model.parameters(),lr=learningRate)"
      ],
      "metadata": {
        "id": "1ORqt-6x9FN3"
      },
      "execution_count": 37,
      "outputs": []
    },
    {
      "cell_type": "code",
      "source": [
        "\n"
      ],
      "metadata": {
        "id": "VCnOVvPK9Oe4"
      },
      "execution_count": 37,
      "outputs": []
    },
    {
      "cell_type": "code",
      "source": [
        "for epoch in range(nIters):\n",
        "  # prediction forward pass\n",
        "  yPred = model(X)\n",
        "\n",
        "  # loss\n",
        "  l = loss(Y,yPred)\n",
        "\n",
        "  #gradient\n",
        "  l.backward()\n",
        "\n",
        "  optimizer.step()\n",
        "\n",
        "  optimizer.zero_grad()\n",
        "\n",
        "  if epoch % 10 == 0:\n",
        "    [w,b] = model.parameters()\n",
        "    print(f\"epoch {epoch+ 1 } : w {w.item():.3f} , Loss = {l:.8f}\")\n"
      ],
      "metadata": {
        "colab": {
          "base_uri": "https://localhost:8080/"
        },
        "id": "ANIuiQgi9DR1",
        "outputId": "f010faf7-1e61-4185-cd23-a5cfc896a838"
      },
      "execution_count": 38,
      "outputs": [
        {
          "output_type": "stream",
          "name": "stdout",
          "text": [
            "epoch 1 : w -0.464 , Loss = 75.65934753\n",
            "epoch 11 : w 1.530 , Loss = 1.96843231\n",
            "epoch 21 : w 1.853 , Loss = 0.06123684\n",
            "epoch 31 : w 1.907 , Loss = 0.01129300\n",
            "epoch 41 : w 1.918 , Loss = 0.00943574\n",
            "epoch 51 : w 1.922 , Loss = 0.00885549\n",
            "epoch 61 : w 1.924 , Loss = 0.00833926\n",
            "epoch 71 : w 1.926 , Loss = 0.00785384\n",
            "epoch 81 : w 1.929 , Loss = 0.00739672\n",
            "epoch 91 : w 1.931 , Loss = 0.00696619\n"
          ]
        }
      ]
    },
    {
      "cell_type": "code",
      "source": [
        "print(f\"Prediction After the training f(5) {model(xTest).item()}\")\n"
      ],
      "metadata": {
        "colab": {
          "base_uri": "https://localhost:8080/"
        },
        "id": "i11BOG_a9Ejm",
        "outputId": "ea6ae62d-23c7-4374-a6db-b91517a1af45"
      },
      "execution_count": 39,
      "outputs": [
        {
          "output_type": "stream",
          "name": "stdout",
          "text": [
            "Prediction After the training f(5) 9.861140251159668\n"
          ]
        }
      ]
    },
    {
      "cell_type": "code",
      "source": [],
      "metadata": {
        "id": "FAhcUWw-BXYK"
      },
      "execution_count": 39,
      "outputs": []
    },
    {
      "cell_type": "code",
      "source": [],
      "metadata": {
        "id": "v_KFbD4uBeG2"
      },
      "execution_count": null,
      "outputs": []
    },
    {
      "cell_type": "code",
      "source": [],
      "metadata": {
        "id": "Gvl_OYj4BeTF"
      },
      "execution_count": null,
      "outputs": []
    }
  ]
}