{
  "nbformat": 4,
  "nbformat_minor": 0,
  "metadata": {
    "colab": {
      "provenance": [],
      "authorship_tag": "ABX9TyPsKSfCFTKAFrNSaIVGR8PL",
      "include_colab_link": true
    },
    "kernelspec": {
      "name": "python3",
      "display_name": "Python 3"
    },
    "language_info": {
      "name": "python"
    }
  },
  "cells": [
    {
      "cell_type": "markdown",
      "metadata": {
        "id": "view-in-github",
        "colab_type": "text"
      },
      "source": [
        "<a href=\"https://colab.research.google.com/github/ahmedbasemdev/PyTorch-Tutorial/blob/main/01_Tensor_Basics.ipynb\" target=\"_parent\"><img src=\"https://colab.research.google.com/assets/colab-badge.svg\" alt=\"Open In Colab\"/></a>"
      ]
    },
    {
      "cell_type": "code",
      "source": [
        "import torch"
      ],
      "metadata": {
        "id": "VngFbHa8hSlK"
      },
      "execution_count": 2,
      "outputs": []
    },
    {
      "cell_type": "code",
      "source": [
        "# create an empty tensor with n size\n",
        "x = torch.empty(3)\n",
        "print(x)"
      ],
      "metadata": {
        "colab": {
          "base_uri": "https://localhost:8080/"
        },
        "id": "J_ifCpVwhWU4",
        "outputId": "850202e7-3d20-4483-bbaf-3f2dff4f362e"
      },
      "execution_count": 6,
      "outputs": [
        {
          "output_type": "stream",
          "name": "stdout",
          "text": [
            "tensor([2.3579e-35, 0.0000e+00, 1.5975e-43])\n"
          ]
        }
      ]
    },
    {
      "cell_type": "code",
      "source": [
        "x = torch.empty(2,3)\n",
        "print(x)"
      ],
      "metadata": {
        "colab": {
          "base_uri": "https://localhost:8080/"
        },
        "id": "gOtzYibOhblg",
        "outputId": "7f2dcf1f-b588-4add-f635-ad18dbbad658"
      },
      "execution_count": 7,
      "outputs": [
        {
          "output_type": "stream",
          "name": "stdout",
          "text": [
            "tensor([[2.3579e-35, 0.0000e+00, 1.5975e-43],\n",
            "        [0.0000e+00, 0.0000e+00, 0.0000e+00]])\n"
          ]
        }
      ]
    },
    {
      "cell_type": "markdown",
      "source": [
        "it could be 3D or even more"
      ],
      "metadata": {
        "id": "-KvX2YOLhxvf"
      }
    },
    {
      "cell_type": "code",
      "source": [
        "# Create a tensor with random values and 2 by 2 Dimension\n",
        "x= torch.rand(2,2)\n",
        "print(x)"
      ],
      "metadata": {
        "colab": {
          "base_uri": "https://localhost:8080/"
        },
        "id": "VZV3-Mqdhvrg",
        "outputId": "3842d050-599a-4012-d5b4-1f15289a6d4e"
      },
      "execution_count": 8,
      "outputs": [
        {
          "output_type": "stream",
          "name": "stdout",
          "text": [
            "tensor([[0.1951, 0.0528],\n",
            "        [0.4139, 0.3106]])\n"
          ]
        }
      ]
    },
    {
      "cell_type": "code",
      "source": [
        "# Create a tensor with zeros values and 2 by 2 Dimension\n",
        "x= torch.zeros(2,2)\n",
        "print(x)"
      ],
      "metadata": {
        "colab": {
          "base_uri": "https://localhost:8080/"
        },
        "id": "hiM2ve_9iHs4",
        "outputId": "4af5f37c-d608-4bb7-ef1a-9bf7185eff7c"
      },
      "execution_count": 10,
      "outputs": [
        {
          "output_type": "stream",
          "name": "stdout",
          "text": [
            "tensor([[0., 0.],\n",
            "        [0., 0.]])\n"
          ]
        }
      ]
    },
    {
      "cell_type": "code",
      "source": [
        "# Create a tensor with ones values and 2 by 2 Dimension\n",
        "x= torch.ones(2,2)\n",
        "print(x)"
      ],
      "metadata": {
        "colab": {
          "base_uri": "https://localhost:8080/"
        },
        "id": "DlVeJ0FMiMqO",
        "outputId": "cd43f57e-e029-463b-b423-233206d610e3"
      },
      "execution_count": 12,
      "outputs": [
        {
          "output_type": "stream",
          "name": "stdout",
          "text": [
            "tensor([[1., 1.],\n",
            "        [1., 1.]])\n"
          ]
        }
      ]
    },
    {
      "cell_type": "code",
      "source": [
        "## set the type of tensor's data\n",
        "x= torch.ones(2,2,dtype=torch.float16)\n",
        "## get the size of the tensor\n",
        "print(x.size())"
      ],
      "metadata": {
        "colab": {
          "base_uri": "https://localhost:8080/"
        },
        "id": "FdItdB_riQJY",
        "outputId": "361f32c8-c005-4262-cfb4-6490491c83df"
      },
      "execution_count": 17,
      "outputs": [
        {
          "output_type": "stream",
          "name": "stdout",
          "text": [
            "torch.Size([2, 2])\n"
          ]
        }
      ]
    },
    {
      "cell_type": "code",
      "source": [
        "# we can also create a tensor from list\n",
        "x = torch.tensor([100,.15,20])\n",
        "print(x)"
      ],
      "metadata": {
        "colab": {
          "base_uri": "https://localhost:8080/"
        },
        "id": "9dHy435BiYpR",
        "outputId": "523f6a81-aa27-4a04-8d87-87481da5aef2"
      },
      "execution_count": 18,
      "outputs": [
        {
          "output_type": "stream",
          "name": "stdout",
          "text": [
            "tensor([100.0000,   0.1500,  20.0000])\n"
          ]
        }
      ]
    },
    {
      "cell_type": "code",
      "source": [
        "x= torch.rand(2,2)\n",
        "y = torch.rand(2,2)\n",
        "print(x,\"\\n\")\n",
        "print(y,'\\n')\n",
        "# we can use torch.add() , it will do the same thing\n",
        "z = x + y\n",
        "print(z)"
      ],
      "metadata": {
        "colab": {
          "base_uri": "https://localhost:8080/"
        },
        "id": "D0JEdXami_Af",
        "outputId": "025000db-0f0f-4774-90ef-1868f82021ba"
      },
      "execution_count": 20,
      "outputs": [
        {
          "output_type": "stream",
          "name": "stdout",
          "text": [
            "tensor([[0.3461, 0.3150],\n",
            "        [0.2792, 0.9776]]) \n",
            "\n",
            "tensor([[0.4959, 0.6383],\n",
            "        [0.2167, 0.5233]]) \n",
            "\n",
            "tensor([[0.8420, 0.9533],\n",
            "        [0.4958, 1.5009]])\n"
          ]
        }
      ]
    },
    {
      "cell_type": "markdown",
      "source": [
        "in pyTorch every function with _ will do an inplace operation"
      ],
      "metadata": {
        "id": "NyMOQW8wkDP4"
      }
    },
    {
      "cell_type": "code",
      "source": [
        "# we can do inplace_addition , this will modify y and add all of the elements of x to y\n",
        "y.add_(x)\n",
        "print(y)"
      ],
      "metadata": {
        "colab": {
          "base_uri": "https://localhost:8080/"
        },
        "id": "fEFyvyEHjSZJ",
        "outputId": "976c16af-c1bb-4a79-980b-8a683ecf238c"
      },
      "execution_count": 21,
      "outputs": [
        {
          "output_type": "stream",
          "name": "stdout",
          "text": [
            "tensor([[0.8420, 0.9533],\n",
            "        [0.4958, 1.5009]])\n"
          ]
        }
      ]
    },
    {
      "cell_type": "code",
      "source": [],
      "metadata": {
        "id": "DPXGZ-kWj-aS"
      },
      "execution_count": null,
      "outputs": []
    }
  ]
}