{
  "nbformat": 4,
  "nbformat_minor": 0,
  "metadata": {
    "colab": {
      "provenance": [],
      "authorship_tag": "ABX9TyMpFPgWV5ug9jgq4v7a27G3",
      "include_colab_link": true
    },
    "kernelspec": {
      "name": "python3",
      "display_name": "Python 3"
    },
    "language_info": {
      "name": "python"
    },
    "accelerator": "GPU"
  },
  "cells": [
    {
      "cell_type": "markdown",
      "metadata": {
        "id": "view-in-github",
        "colab_type": "text"
      },
      "source": [
        "<a href=\"https://colab.research.google.com/github/ahmedbasemdev/PyTorch-Tutorial/blob/main/01_Tensor_Basics.ipynb\" target=\"_parent\"><img src=\"https://colab.research.google.com/assets/colab-badge.svg\" alt=\"Open In Colab\"/></a>"
      ]
    },
    {
      "cell_type": "code",
      "source": [
        "import torch"
      ],
      "metadata": {
        "id": "VngFbHa8hSlK"
      },
      "execution_count": 1,
      "outputs": []
    },
    {
      "cell_type": "code",
      "source": [
        "# create an empty tensor with n size\n",
        "x = torch.empty(3)\n",
        "print(x)"
      ],
      "metadata": {
        "colab": {
          "base_uri": "https://localhost:8080/"
        },
        "id": "J_ifCpVwhWU4",
        "outputId": "fd6a5b8c-5e70-4173-aaf7-c448498c1356"
      },
      "execution_count": 2,
      "outputs": [
        {
          "output_type": "stream",
          "name": "stdout",
          "text": [
            "tensor([4.9718e-35, 0.0000e+00, 3.3631e-44])\n"
          ]
        }
      ]
    },
    {
      "cell_type": "code",
      "source": [
        "x = torch.empty(2,3)\n",
        "print(x)"
      ],
      "metadata": {
        "colab": {
          "base_uri": "https://localhost:8080/"
        },
        "id": "gOtzYibOhblg",
        "outputId": "433c0c3e-0a50-40dc-b217-9a96b074b132"
      },
      "execution_count": 3,
      "outputs": [
        {
          "output_type": "stream",
          "name": "stdout",
          "text": [
            "tensor([[4.9720e-35, 0.0000e+00, 5.0447e-44],\n",
            "        [0.0000e+00,        nan, 0.0000e+00]])\n"
          ]
        }
      ]
    },
    {
      "cell_type": "markdown",
      "source": [
        "it could be 3D or even more"
      ],
      "metadata": {
        "id": "-KvX2YOLhxvf"
      }
    },
    {
      "cell_type": "code",
      "source": [
        "# Create a tensor with random values and 2 by 2 Dimension\n",
        "x= torch.rand(2,2)\n",
        "print(x)"
      ],
      "metadata": {
        "colab": {
          "base_uri": "https://localhost:8080/"
        },
        "id": "VZV3-Mqdhvrg",
        "outputId": "c1dca0ce-0a07-419b-ddae-a54279db214a"
      },
      "execution_count": 4,
      "outputs": [
        {
          "output_type": "stream",
          "name": "stdout",
          "text": [
            "tensor([[0.3084, 0.0605],\n",
            "        [0.3961, 0.4514]])\n"
          ]
        }
      ]
    },
    {
      "cell_type": "code",
      "source": [
        "# Create a tensor with zeros values and 2 by 2 Dimension\n",
        "x= torch.zeros(2,2)\n",
        "print(x)"
      ],
      "metadata": {
        "colab": {
          "base_uri": "https://localhost:8080/"
        },
        "id": "hiM2ve_9iHs4",
        "outputId": "575e1a02-58ea-4620-b3a6-fdb8f99dc773"
      },
      "execution_count": 5,
      "outputs": [
        {
          "output_type": "stream",
          "name": "stdout",
          "text": [
            "tensor([[0., 0.],\n",
            "        [0., 0.]])\n"
          ]
        }
      ]
    },
    {
      "cell_type": "code",
      "source": [
        "# Create a tensor with ones values and 2 by 2 Dimension\n",
        "x= torch.ones(2,2)\n",
        "print(x)"
      ],
      "metadata": {
        "colab": {
          "base_uri": "https://localhost:8080/"
        },
        "id": "DlVeJ0FMiMqO",
        "outputId": "7d6d0e93-1c5a-4567-ff56-63c3f3fd9d6e"
      },
      "execution_count": 6,
      "outputs": [
        {
          "output_type": "stream",
          "name": "stdout",
          "text": [
            "tensor([[1., 1.],\n",
            "        [1., 1.]])\n"
          ]
        }
      ]
    },
    {
      "cell_type": "code",
      "source": [
        "## set the type of tensor's data\n",
        "x= torch.ones(2,2,dtype=torch.float16)\n",
        "## get the size of the tensor\n",
        "print(x.size())"
      ],
      "metadata": {
        "colab": {
          "base_uri": "https://localhost:8080/"
        },
        "id": "FdItdB_riQJY",
        "outputId": "07e5c17d-8752-47ff-d95c-561e8ffc9b30"
      },
      "execution_count": 7,
      "outputs": [
        {
          "output_type": "stream",
          "name": "stdout",
          "text": [
            "torch.Size([2, 2])\n"
          ]
        }
      ]
    },
    {
      "cell_type": "code",
      "source": [
        "# we can also create a tensor from list\n",
        "x = torch.tensor([100,.15,20])\n",
        "print(x)"
      ],
      "metadata": {
        "colab": {
          "base_uri": "https://localhost:8080/"
        },
        "id": "9dHy435BiYpR",
        "outputId": "2bde3a1c-c05f-4eca-9236-7536f83c0408"
      },
      "execution_count": 8,
      "outputs": [
        {
          "output_type": "stream",
          "name": "stdout",
          "text": [
            "tensor([100.0000,   0.1500,  20.0000])\n"
          ]
        }
      ]
    },
    {
      "cell_type": "code",
      "source": [
        "x= torch.rand(2,2)\n",
        "y = torch.rand(2,2)\n",
        "print(x,\"\\n\")\n",
        "print(y,'\\n')\n",
        "# we can use torch.add() , it will do the same thing\n",
        "z = x + y\n",
        "print(z)"
      ],
      "metadata": {
        "colab": {
          "base_uri": "https://localhost:8080/"
        },
        "id": "D0JEdXami_Af",
        "outputId": "0dcf8a16-b10f-4306-86f1-1e0bef1d277a"
      },
      "execution_count": 9,
      "outputs": [
        {
          "output_type": "stream",
          "name": "stdout",
          "text": [
            "tensor([[0.5101, 0.2862],\n",
            "        [0.6310, 0.2524]]) \n",
            "\n",
            "tensor([[0.0525, 0.2426],\n",
            "        [0.5583, 0.0065]]) \n",
            "\n",
            "tensor([[0.5627, 0.5287],\n",
            "        [1.1893, 0.2588]])\n"
          ]
        }
      ]
    },
    {
      "cell_type": "markdown",
      "source": [
        "in pyTorch every function with _ will do an inplace operation"
      ],
      "metadata": {
        "id": "NyMOQW8wkDP4"
      }
    },
    {
      "cell_type": "code",
      "source": [
        "# we can do inplace_addition , this will modify y and add all of the elements of x to y\n",
        "y.add_(x)\n",
        "print(y)"
      ],
      "metadata": {
        "colab": {
          "base_uri": "https://localhost:8080/"
        },
        "id": "fEFyvyEHjSZJ",
        "outputId": "70b86c56-a154-4e1b-d7e8-8732f92d64d1"
      },
      "execution_count": 10,
      "outputs": [
        {
          "output_type": "stream",
          "name": "stdout",
          "text": [
            "tensor([[0.5627, 0.5287],\n",
            "        [1.1893, 0.2588]])\n"
          ]
        }
      ]
    },
    {
      "cell_type": "code",
      "source": [
        "z = x - y\n",
        "# or \n",
        "z = torch.sub(x,y) "
      ],
      "metadata": {
        "id": "DPXGZ-kWj-aS"
      },
      "execution_count": 11,
      "outputs": []
    },
    {
      "cell_type": "code",
      "source": [
        "z = x * y\n",
        "# or \n",
        "z = torch.mul(x,y)"
      ],
      "metadata": {
        "id": "1FHS6Vzn4zTt"
      },
      "execution_count": 12,
      "outputs": []
    },
    {
      "cell_type": "code",
      "source": [
        "x = torch.rand(5,3)\n",
        "print(x,'\\n')\n",
        "# get the first column and all the rows\n",
        "print(x[:,0])"
      ],
      "metadata": {
        "colab": {
          "base_uri": "https://localhost:8080/"
        },
        "id": "bGP0u2KP47cc",
        "outputId": "20ef833e-16a1-4157-ee82-cdd0680e08e3"
      },
      "execution_count": 13,
      "outputs": [
        {
          "output_type": "stream",
          "name": "stdout",
          "text": [
            "tensor([[0.8279, 0.5435, 0.8169],\n",
            "        [0.6656, 0.3352, 0.1330],\n",
            "        [0.2213, 0.2218, 0.3831],\n",
            "        [0.8920, 0.6580, 0.7069],\n",
            "        [0.9872, 0.7718, 0.7246]]) \n",
            "\n",
            "tensor([0.8279, 0.6656, 0.2213, 0.8920, 0.9872])\n"
          ]
        }
      ]
    },
    {
      "cell_type": "code",
      "source": [
        "print(x,'\\n')\n",
        "# get row number 1 and all columns\n",
        "print(x[1,:])"
      ],
      "metadata": {
        "colab": {
          "base_uri": "https://localhost:8080/"
        },
        "id": "4M3zbIBU5Qfz",
        "outputId": "776584e2-3320-4571-ce19-20aa011e9426"
      },
      "execution_count": 14,
      "outputs": [
        {
          "output_type": "stream",
          "name": "stdout",
          "text": [
            "tensor([[0.8279, 0.5435, 0.8169],\n",
            "        [0.6656, 0.3352, 0.1330],\n",
            "        [0.2213, 0.2218, 0.3831],\n",
            "        [0.8920, 0.6580, 0.7069],\n",
            "        [0.9872, 0.7718, 0.7246]]) \n",
            "\n",
            "tensor([0.6656, 0.3352, 0.1330])\n"
          ]
        }
      ]
    },
    {
      "cell_type": "code",
      "source": [
        "print(x,'\\n')\n",
        "print(x[1,1],'\\n')\n",
        "# item function return the value of tensor\n",
        "print(x[1,1].item())"
      ],
      "metadata": {
        "colab": {
          "base_uri": "https://localhost:8080/"
        },
        "id": "xaxx-p0u5jDc",
        "outputId": "dba8bae0-0e56-4446-cb62-86593e9f2b74"
      },
      "execution_count": 15,
      "outputs": [
        {
          "output_type": "stream",
          "name": "stdout",
          "text": [
            "tensor([[0.8279, 0.5435, 0.8169],\n",
            "        [0.6656, 0.3352, 0.1330],\n",
            "        [0.2213, 0.2218, 0.3831],\n",
            "        [0.8920, 0.6580, 0.7069],\n",
            "        [0.9872, 0.7718, 0.7246]]) \n",
            "\n",
            "tensor(0.3352) \n",
            "\n",
            "0.33522260189056396\n"
          ]
        }
      ]
    },
    {
      "cell_type": "code",
      "source": [
        "x = torch.rand(4,4)\n",
        "print(x,'\\n')\n",
        "# reshape tensor x from 4*4 to 1*16\n",
        "y = x.view(16)\n",
        "print(y)"
      ],
      "metadata": {
        "colab": {
          "base_uri": "https://localhost:8080/"
        },
        "id": "WIn60ybf5xKG",
        "outputId": "1b3376f9-4b61-4b10-a3ce-a3823a5245f0"
      },
      "execution_count": 16,
      "outputs": [
        {
          "output_type": "stream",
          "name": "stdout",
          "text": [
            "tensor([[0.8324, 0.4503, 0.1188, 0.0524],\n",
            "        [0.4662, 0.0931, 0.8720, 0.6721],\n",
            "        [0.5280, 0.8998, 0.9923, 0.8186],\n",
            "        [0.5193, 0.0027, 0.6207, 0.3575]]) \n",
            "\n",
            "tensor([0.8324, 0.4503, 0.1188, 0.0524, 0.4662, 0.0931, 0.8720, 0.6721, 0.5280,\n",
            "        0.8998, 0.9923, 0.8186, 0.5193, 0.0027, 0.6207, 0.3575])\n"
          ]
        }
      ]
    },
    {
      "cell_type": "code",
      "source": [
        "print(x,'\\n')\n",
        "# if we put -1 pyTorch will detemine the right dimesion for it\n",
        "y = x.view(-1,4)\n",
        "print(y.size())"
      ],
      "metadata": {
        "colab": {
          "base_uri": "https://localhost:8080/"
        },
        "id": "RfjqzfaP6NXj",
        "outputId": "32da96cc-1195-4a24-8cbf-f545c4af179c"
      },
      "execution_count": 17,
      "outputs": [
        {
          "output_type": "stream",
          "name": "stdout",
          "text": [
            "tensor([[0.8324, 0.4503, 0.1188, 0.0524],\n",
            "        [0.4662, 0.0931, 0.8720, 0.6721],\n",
            "        [0.5280, 0.8998, 0.9923, 0.8186],\n",
            "        [0.5193, 0.0027, 0.6207, 0.3575]]) \n",
            "\n",
            "torch.Size([4, 4])\n"
          ]
        }
      ]
    },
    {
      "cell_type": "markdown",
      "source": [
        "## Numpy and Torch"
      ],
      "metadata": {
        "id": "eXVDyzVo7Ao0"
      }
    },
    {
      "cell_type": "code",
      "source": [
        "import numpy as np"
      ],
      "metadata": {
        "id": "mvip_ahf6n2s"
      },
      "execution_count": 18,
      "outputs": []
    },
    {
      "cell_type": "code",
      "source": [
        "a = torch.ones(5)"
      ],
      "metadata": {
        "id": "-9QUmYXI7FpV"
      },
      "execution_count": 19,
      "outputs": []
    },
    {
      "cell_type": "code",
      "source": [
        "b = a.numpy()\n",
        "print(type(b))\n"
      ],
      "metadata": {
        "colab": {
          "base_uri": "https://localhost:8080/"
        },
        "id": "yjyGOtIG7KQk",
        "outputId": "103e9079-40f4-4542-a0cd-bd1f7fa95e0e"
      },
      "execution_count": 20,
      "outputs": [
        {
          "output_type": "stream",
          "name": "stdout",
          "text": [
            "<class 'numpy.ndarray'>\n"
          ]
        }
      ]
    },
    {
      "cell_type": "code",
      "source": [
        "# both point to the same memory location, if we make an operation to one, will affect the second \n",
        "a.add_(1)\n",
        "print(a)\n",
        "print(b)"
      ],
      "metadata": {
        "colab": {
          "base_uri": "https://localhost:8080/"
        },
        "id": "xcqA8fOr7NfF",
        "outputId": "a7e5817e-f214-494a-ad32-61b1fb22ab3b"
      },
      "execution_count": 21,
      "outputs": [
        {
          "output_type": "stream",
          "name": "stdout",
          "text": [
            "tensor([2., 2., 2., 2., 2.])\n",
            "[2. 2. 2. 2. 2.]\n"
          ]
        }
      ]
    },
    {
      "cell_type": "code",
      "source": [
        "a = np.ones(5)\n",
        "print(a)"
      ],
      "metadata": {
        "colab": {
          "base_uri": "https://localhost:8080/"
        },
        "id": "rIgaVvHH7x6c",
        "outputId": "9db305fd-118f-44b1-dc92-73f5f6250e93"
      },
      "execution_count": 22,
      "outputs": [
        {
          "output_type": "stream",
          "name": "stdout",
          "text": [
            "[1. 1. 1. 1. 1.]\n"
          ]
        }
      ]
    },
    {
      "cell_type": "code",
      "source": [
        "b = torch.from_numpy(a)\n",
        "\n",
        "print(type(b))"
      ],
      "metadata": {
        "colab": {
          "base_uri": "https://localhost:8080/"
        },
        "id": "vzyT4a30763l",
        "outputId": "dfc8ce87-c743-417b-98f9-918def10c886"
      },
      "execution_count": 23,
      "outputs": [
        {
          "output_type": "stream",
          "name": "stdout",
          "text": [
            "<class 'torch.Tensor'>\n"
          ]
        }
      ]
    },
    {
      "cell_type": "code",
      "source": [
        "if torch.cuda.is_available():\n",
        "  device = torch.device(\"cuda\")\n",
        "  # create tensor in gpu\n",
        "  x = torch.ones(5,device=device)\n",
        "  y = torch.ones(5)\n",
        "  # move tensor to gpu\n",
        "  y = y.to(device)\n",
        "  z= x + y\n"
      ],
      "metadata": {
        "id": "Kqe0INrE7_XE"
      },
      "execution_count": 27,
      "outputs": []
    },
    {
      "cell_type": "markdown",
      "source": [
        "you can't convert gpu tensor to numpy , you should return it back to cpu"
      ],
      "metadata": {
        "id": "kHLODNeC86DE"
      }
    },
    {
      "cell_type": "code",
      "source": [
        "z = z.to(\"cpu\")\n",
        "z.numpy()"
      ],
      "metadata": {
        "colab": {
          "base_uri": "https://localhost:8080/"
        },
        "id": "AIIIVyNN8cm9",
        "outputId": "f51f8cb4-a4fd-4c72-fb06-0575e113771d"
      },
      "execution_count": 31,
      "outputs": [
        {
          "output_type": "execute_result",
          "data": {
            "text/plain": [
              "array([2., 2., 2., 2., 2.], dtype=float32)"
            ]
          },
          "metadata": {},
          "execution_count": 31
        }
      ]
    },
    {
      "cell_type": "code",
      "source": [],
      "metadata": {
        "id": "p5bwkq0f84Vc"
      },
      "execution_count": null,
      "outputs": []
    }
  ]
}