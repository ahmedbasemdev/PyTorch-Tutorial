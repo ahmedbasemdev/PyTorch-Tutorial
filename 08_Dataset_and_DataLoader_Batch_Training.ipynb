{
  "nbformat": 4,
  "nbformat_minor": 0,
  "metadata": {
    "colab": {
      "provenance": [],
      "collapsed_sections": [],
      "authorship_tag": "ABX9TyMSBQXbKr4hgE/wGj5ObXvs",
      "include_colab_link": true
    },
    "kernelspec": {
      "name": "python3",
      "display_name": "Python 3"
    },
    "language_info": {
      "name": "python"
    }
  },
  "cells": [
    {
      "cell_type": "markdown",
      "metadata": {
        "id": "view-in-github",
        "colab_type": "text"
      },
      "source": [
        "<a href=\"https://colab.research.google.com/github/ahmedbasemdev/PyTorch-Tutorial/blob/main/08_Dataset_and_DataLoader_Batch_Training.ipynb\" target=\"_parent\"><img src=\"https://colab.research.google.com/assets/colab-badge.svg\" alt=\"Open In Colab\"/></a>"
      ]
    },
    {
      "cell_type": "markdown",
      "source": [
        "### gradient computation etc. not efficient for whole data set\n",
        "### -> divide dataset into small batches\n",
        "\n",
        "'''\n",
        "### training loop\n",
        "for epoch in range(num_epochs):\n",
        "    # loop over all batches\n",
        "    for i in range(total_batches):\n",
        "        batch_x, batch_y = ...\n",
        "'''\n",
        "\n",
        "### epoch = one forward and backward pass of ALL training samples\n",
        "### batch_size = number of training samples used in one forward/backward pass\n",
        "### number of iterations = number of passes, each pass (forward+backward) using [batch_size] number of sampes\n",
        "### e.g : 100 samples, batch_size=20 -> 100/20=5 iterations for 1 epoch\n",
        "\n",
        "### --> DataLoader can do the batch computation for us\n",
        "\n",
        "### Implement a custom Dataset:\n",
        "### inherit Dataset\n",
        "### implement __init__ , __getitem__ , and __len__\n"
      ],
      "metadata": {
        "id": "ZOUjWb22LFZP"
      }
    },
    {
      "cell_type": "code",
      "source": [
        "import torch\n",
        "import torchvision\n",
        "from torch.utils.data import Dataset , DataLoader\n",
        "import numpy as np\n",
        "import math"
      ],
      "metadata": {
        "id": "3kU8ivDVLEe_"
      },
      "execution_count": 1,
      "outputs": []
    },
    {
      "cell_type": "code",
      "execution_count": 2,
      "metadata": {
        "id": "oBv20RHh95hf"
      },
      "outputs": [],
      "source": [
        "class WineDataset(Dataset):\n",
        "\n",
        "  def __init__(self):\n",
        "    # data loading\n",
        "    xy = np.loadtxt('/content/wine.csv',delimiter=',',dtype=np.float32,skiprows=1)\n",
        "\n",
        "    print(xy.shape)\n",
        "\n",
        "    self.x = torch.from_numpy(xy[:,1:])\n",
        "\n",
        "    self.y = torch.from_numpy(xy[:,[0]])\n",
        "\n",
        "    self.nSamples = self.x.shape[0]\n",
        "\n",
        "  \n",
        "\n",
        "  def __getitem__(self,index):\n",
        "    # dataset[0]\n",
        "    return self.x[index] , self.y[index]\n",
        "\n",
        "\n",
        "  def __len__(self):\n",
        "    ## len(dataset)\n",
        "    return self.nSamples\n"
      ]
    },
    {
      "cell_type": "code",
      "source": [
        "dataset = WineDataset()\n"
      ],
      "metadata": {
        "colab": {
          "base_uri": "https://localhost:8080/"
        },
        "id": "8P6-s5JANcQI",
        "outputId": "4a4d01bc-b0a7-43f1-cc9c-a6f1de80bc43"
      },
      "execution_count": 3,
      "outputs": [
        {
          "output_type": "stream",
          "name": "stdout",
          "text": [
            "(178, 14)\n"
          ]
        }
      ]
    },
    {
      "cell_type": "code",
      "source": [
        "firstData = dataset[0]\n",
        "features, labels = firstData\n",
        "print(features, labels)"
      ],
      "metadata": {
        "colab": {
          "base_uri": "https://localhost:8080/"
        },
        "id": "9riyT2shNg2f",
        "outputId": "f0f6bb5b-66c7-4855-c549-ec767a971ad5"
      },
      "execution_count": 4,
      "outputs": [
        {
          "output_type": "stream",
          "name": "stdout",
          "text": [
            "tensor([1.4230e+01, 1.7100e+00, 2.4300e+00, 1.5600e+01, 1.2700e+02, 2.8000e+00,\n",
            "        3.0600e+00, 2.8000e-01, 2.2900e+00, 5.6400e+00, 1.0400e+00, 3.9200e+00,\n",
            "        1.0650e+03]) tensor([1.])\n"
          ]
        }
      ]
    },
    {
      "cell_type": "code",
      "source": [
        "dataLoader =DataLoader(\n",
        "    dataset=dataset,\n",
        "    batch_size =4,\n",
        "    shuffle=True,\n",
        "    num_workers=2,\n",
        "    \n",
        ")"
      ],
      "metadata": {
        "id": "VvkF7QiwPZbA"
      },
      "execution_count": 6,
      "outputs": []
    },
    {
      "cell_type": "code",
      "source": [
        "dataIter = iter(dataLoader)\n",
        "data = dataIter.next()\n",
        "features , labels = data\n",
        "print(features , labels)"
      ],
      "metadata": {
        "colab": {
          "base_uri": "https://localhost:8080/"
        },
        "id": "kYUoIDBLrEB-",
        "outputId": "ef865cfb-3609-4764-adc6-5c7489fb0c61"
      },
      "execution_count": 8,
      "outputs": [
        {
          "output_type": "stream",
          "name": "stdout",
          "text": [
            "tensor([[1.2450e+01, 3.0300e+00, 2.6400e+00, 2.7000e+01, 9.7000e+01, 1.9000e+00,\n",
            "         5.8000e-01, 6.3000e-01, 1.1400e+00, 7.5000e+00, 6.7000e-01, 1.7300e+00,\n",
            "         8.8000e+02],\n",
            "        [1.4370e+01, 1.9500e+00, 2.5000e+00, 1.6800e+01, 1.1300e+02, 3.8500e+00,\n",
            "         3.4900e+00, 2.4000e-01, 2.1800e+00, 7.8000e+00, 8.6000e-01, 3.4500e+00,\n",
            "         1.4800e+03],\n",
            "        [1.2330e+01, 1.1000e+00, 2.2800e+00, 1.6000e+01, 1.0100e+02, 2.0500e+00,\n",
            "         1.0900e+00, 6.3000e-01, 4.1000e-01, 3.2700e+00, 1.2500e+00, 1.6700e+00,\n",
            "         6.8000e+02],\n",
            "        [1.1790e+01, 2.1300e+00, 2.7800e+00, 2.8500e+01, 9.2000e+01, 2.1300e+00,\n",
            "         2.2400e+00, 5.8000e-01, 1.7600e+00, 3.0000e+00, 9.7000e-01, 2.4400e+00,\n",
            "         4.6600e+02]]) tensor([[3.],\n",
            "        [1.],\n",
            "        [2.],\n",
            "        [2.]])\n"
          ]
        }
      ]
    },
    {
      "cell_type": "code",
      "source": [
        "numEpochs = 2\n",
        "totalSample = len(dataLoader)\n",
        "nIteration = math.ceil(totalSample/4)\n"
      ],
      "metadata": {
        "id": "lT_42ZdFsaaZ"
      },
      "execution_count": 13,
      "outputs": []
    },
    {
      "cell_type": "code",
      "source": [
        "for epoch in range(numEpochs):\n",
        "  for i , (data,label) in enumerate(dataLoader):\n",
        "    if (i + 1 ) % 5 == 0:\n",
        "      print(f\"epoch is {epoch} / {numEpochs} , step {i+1} / {nIteration}\")"
      ],
      "metadata": {
        "colab": {
          "base_uri": "https://localhost:8080/"
        },
        "id": "9AMnXHMts_0a",
        "outputId": "16d17874-424c-42b0-9d6b-1cba1fccbb80"
      },
      "execution_count": 14,
      "outputs": [
        {
          "output_type": "stream",
          "name": "stdout",
          "text": [
            "epoch is 0 / 2 , step 5 / 12\n",
            "epoch is 0 / 2 , step 10 / 12\n",
            "epoch is 0 / 2 , step 15 / 12\n",
            "epoch is 0 / 2 , step 20 / 12\n",
            "epoch is 0 / 2 , step 25 / 12\n",
            "epoch is 0 / 2 , step 30 / 12\n",
            "epoch is 0 / 2 , step 35 / 12\n",
            "epoch is 0 / 2 , step 40 / 12\n",
            "epoch is 0 / 2 , step 45 / 12\n",
            "epoch is 1 / 2 , step 5 / 12\n",
            "epoch is 1 / 2 , step 10 / 12\n",
            "epoch is 1 / 2 , step 15 / 12\n",
            "epoch is 1 / 2 , step 20 / 12\n",
            "epoch is 1 / 2 , step 25 / 12\n",
            "epoch is 1 / 2 , step 30 / 12\n",
            "epoch is 1 / 2 , step 35 / 12\n",
            "epoch is 1 / 2 , step 40 / 12\n",
            "epoch is 1 / 2 , step 45 / 12\n"
          ]
        }
      ]
    },
    {
      "cell_type": "code",
      "source": [],
      "metadata": {
        "id": "EKYXbZzZvCMQ"
      },
      "execution_count": null,
      "outputs": []
    }
  ]
}