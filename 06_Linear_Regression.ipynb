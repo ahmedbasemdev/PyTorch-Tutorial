{
  "nbformat": 4,
  "nbformat_minor": 0,
  "metadata": {
    "colab": {
      "provenance": [],
      "collapsed_sections": [],
      "authorship_tag": "ABX9TyMoKGeSc6402cBctrxICBpw",
      "include_colab_link": true
    },
    "kernelspec": {
      "name": "python3",
      "display_name": "Python 3"
    },
    "language_info": {
      "name": "python"
    }
  },
  "cells": [
    {
      "cell_type": "markdown",
      "metadata": {
        "id": "view-in-github",
        "colab_type": "text"
      },
      "source": [
        "<a href=\"https://colab.research.google.com/github/ahmedbasemdev/PyTorch-Tutorial/blob/main/06_Linear_Regression.ipynb\" target=\"_parent\"><img src=\"https://colab.research.google.com/assets/colab-badge.svg\" alt=\"Open In Colab\"/></a>"
      ]
    },
    {
      "cell_type": "code",
      "source": [
        "import torch\n",
        "import torch.nn as nn\n",
        "import numpy as np\n",
        "from sklearn import datasets\n",
        "import matplotlib.pyplot as plt"
      ],
      "metadata": {
        "id": "aK4YDGrPDV_U"
      },
      "execution_count": 2,
      "outputs": []
    },
    {
      "cell_type": "markdown",
      "source": [
        "Construct the train pipeline      \n",
        "[1] Design model (input, output size , forward pass)      \n",
        "[2] loss and optimizer      \n",
        "[3] Training Loop\n",
        "  - forward pass : compute the prediction\n",
        "  - backward pass : gradient\n",
        "  - update weights\n"
      ],
      "metadata": {
        "id": "fzXG69poDKqX"
      }
    },
    {
      "cell_type": "markdown",
      "source": [
        "##  0) Prepare Data"
      ],
      "metadata": {
        "id": "DbAy3WgHFPll"
      }
    },
    {
      "cell_type": "code",
      "execution_count": 11,
      "metadata": {
        "id": "r824mBRRC7GP"
      },
      "outputs": [],
      "source": [
        "xNumpy , yNumpy = datasets.make_regression(n_samples=100 , n_features = 1 , noise =20 , random_state =1)\n",
        "X = torch.from_numpy(xNumpy.astype(np.float32))\n",
        "Y = torch.from_numpy(yNumpy.astype(np.float32))\n",
        "Y = Y.view(Y.shape[0],1)"
      ]
    },
    {
      "cell_type": "code",
      "source": [
        "Y.shape"
      ],
      "metadata": {
        "colab": {
          "base_uri": "https://localhost:8080/"
        },
        "id": "iA3Ea1m2Fj4O",
        "outputId": "b5782953-37db-493c-abaa-8967dc133780"
      },
      "execution_count": 12,
      "outputs": [
        {
          "output_type": "execute_result",
          "data": {
            "text/plain": [
              "torch.Size([100, 1])"
            ]
          },
          "metadata": {},
          "execution_count": 12
        }
      ]
    },
    {
      "cell_type": "code",
      "source": [
        "nSamples , nFeatures = X.shape\n"
      ],
      "metadata": {
        "id": "IM-2R2FFF72d"
      },
      "execution_count": 15,
      "outputs": []
    },
    {
      "cell_type": "markdown",
      "source": [
        "## 1) Model"
      ],
      "metadata": {
        "id": "02VdqZmUGmTe"
      }
    },
    {
      "cell_type": "code",
      "source": [
        "inputSize = nFeatures\n",
        "outputSize = nFeatures\n",
        "print(inputSize)\n",
        "model = nn.Linear(inputSize , outputSize)"
      ],
      "metadata": {
        "colab": {
          "base_uri": "https://localhost:8080/"
        },
        "id": "cDcZtVRPGcVm",
        "outputId": "65aa4c1e-22dc-4df3-d307-25b9ea05fe8f"
      },
      "execution_count": 17,
      "outputs": [
        {
          "output_type": "stream",
          "name": "stdout",
          "text": [
            "1\n"
          ]
        }
      ]
    },
    {
      "cell_type": "markdown",
      "source": [
        "## 2) Optimizer and Loss"
      ],
      "metadata": {
        "id": "bBC1JKAzG3Gc"
      }
    },
    {
      "cell_type": "code",
      "source": [
        "learningRate = .01\n",
        "nItera = 100"
      ],
      "metadata": {
        "id": "zeLRDIBrHDIQ"
      },
      "execution_count": 18,
      "outputs": []
    },
    {
      "cell_type": "code",
      "source": [
        "lossFun = nn.MSELoss()\n",
        "\n",
        "optimizer = torch.optim.SGD(model.parameters(),lr=learningRate)"
      ],
      "metadata": {
        "id": "tXunGuSBGvD8"
      },
      "execution_count": 22,
      "outputs": []
    },
    {
      "cell_type": "markdown",
      "source": [
        "## 3) Training Loop"
      ],
      "metadata": {
        "id": "QXo51GBzHOi0"
      }
    },
    {
      "cell_type": "code",
      "source": [
        "for epoch in range(nItera):\n",
        "  ## model Prediction\n",
        "  yPred = model(X)\n",
        "\n",
        "  ## Loss \n",
        "  loss = lossFun(yPred,Y)\n",
        "\n",
        "  ## \n",
        "  loss.backward()\n",
        "\n",
        "  ## update\n",
        "  optimizer.step()\n",
        "\n",
        "  ## reset\n",
        "  optimizer.zero_grad()\n",
        "\n",
        "  if epoch %10 == 0:\n",
        "    [w,b] = model.parameters()\n",
        "    print(f\"epoch {epoch+ 1 } : w {w.item():.3f} , Loss = {loss:.8f}\")\n"
      ],
      "metadata": {
        "colab": {
          "base_uri": "https://localhost:8080/"
        },
        "id": "rTgdm54ZHJU9",
        "outputId": "ff8effcd-61d1-4dec-97b3-01e7063e5c11"
      },
      "execution_count": 24,
      "outputs": [
        {
          "output_type": "stream",
          "name": "stdout",
          "text": [
            "epoch 1 : w 1.818 , Loss = 5679.15917969\n",
            "epoch 11 : w 13.691 , Loss = 4206.50244141\n",
            "epoch 21 : w 23.806 , Loss = 3142.17822266\n",
            "epoch 31 : w 32.426 , Loss = 2372.08203125\n",
            "epoch 41 : w 39.773 , Loss = 1814.28112793\n",
            "epoch 51 : w 46.036 , Loss = 1409.85168457\n",
            "epoch 61 : w 51.377 , Loss = 1116.35510254\n",
            "epoch 71 : w 55.931 , Loss = 903.18341064\n",
            "epoch 81 : w 59.815 , Loss = 748.23291016\n",
            "epoch 91 : w 63.129 , Loss = 635.52154541\n"
          ]
        }
      ]
    },
    {
      "cell_type": "code",
      "source": [
        "predicted = model(X).detach().numpy()\n",
        "plt.plot(xNumpy , yNumpy ,'ro')\n",
        "plt.plot(xNumpy , predicted,'b')\n",
        "plt.show()"
      ],
      "metadata": {
        "colab": {
          "base_uri": "https://localhost:8080/",
          "height": 265
        },
        "id": "u-Vnk33mIFuE",
        "outputId": "52dda9d0-502a-4470-f516-481b04e4f7c0"
      },
      "execution_count": 26,
      "outputs": [
        {
          "output_type": "display_data",
          "data": {
            "text/plain": [
              "<Figure size 432x288 with 1 Axes>"
            ],
            "image/png": "[encoded data removed]"
          },
          "metadata": {
            "needs_background": "light"
          }
        }
      ]
    },
    {
      "cell_type": "code",
      "source": [],
      "metadata": {
        "id": "bpSC_sn2IenF"
      },
      "execution_count": null,
      "outputs": []
    }
  ]
}