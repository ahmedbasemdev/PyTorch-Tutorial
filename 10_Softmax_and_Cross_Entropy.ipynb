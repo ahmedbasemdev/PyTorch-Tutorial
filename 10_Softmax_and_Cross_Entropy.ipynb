{
  "nbformat": 4,
  "nbformat_minor": 0,
  "metadata": {
    "colab": {
      "provenance": [],
      "collapsed_sections": [],
      "authorship_tag": "ABX9TyPr1Z4rWtTt7k1Qe9Nu35fV",
      "include_colab_link": true
    },
    "kernelspec": {
      "name": "python3",
      "display_name": "Python 3"
    },
    "language_info": {
      "name": "python"
    }
  },
  "cells": [
    {
      "cell_type": "markdown",
      "metadata": {
        "id": "view-in-github",
        "colab_type": "text"
      },
      "source": [
        "<a href=\"https://colab.research.google.com/github/ahmedbasemdev/PyTorch-Tutorial/blob/main/10_Softmax_and_Cross_Entropy.ipynb\" target=\"_parent\"><img src=\"https://colab.research.google.com/assets/colab-badge.svg\" alt=\"Open In Colab\"/></a>"
      ]
    },
    {
      "cell_type": "code",
      "execution_count": 1,
      "metadata": {
        "id": "xRYNwM2RVBVV"
      },
      "outputs": [],
      "source": [
        "import torch\n",
        "import torch.nn as nn\n",
        "import numpy as np"
      ]
    },
    {
      "cell_type": "code",
      "source": [
        "def softmax(x):\n",
        "  return np.exp(x) / np.sum(np.exp(x),axis = 0)"
      ],
      "metadata": {
        "id": "J2fC8YRrVJpH"
      },
      "execution_count": 2,
      "outputs": []
    },
    {
      "cell_type": "code",
      "source": [
        "x = np.array([2,1,0.1])"
      ],
      "metadata": {
        "id": "29u3jihDVRdO"
      },
      "execution_count": 3,
      "outputs": []
    },
    {
      "cell_type": "code",
      "source": [
        "outputs = softmax(x)"
      ],
      "metadata": {
        "id": "e2feQlH6VWfW"
      },
      "execution_count": 4,
      "outputs": []
    },
    {
      "cell_type": "code",
      "source": [
        "print(outputs)"
      ],
      "metadata": {
        "colab": {
          "base_uri": "https://localhost:8080/"
        },
        "id": "E7xxR7y6VYtf",
        "outputId": "697c673f-0aa5-415c-91bc-1d7448e404df"
      },
      "execution_count": 5,
      "outputs": [
        {
          "output_type": "stream",
          "name": "stdout",
          "text": [
            "[0.65900114 0.24243297 0.09856589]\n"
          ]
        }
      ]
    },
    {
      "cell_type": "code",
      "source": [
        "x = torch.tensor([2,1,.1])\n",
        "outputs= torch.softmax(x,axis = 0)\n",
        "print(outputs)"
      ],
      "metadata": {
        "colab": {
          "base_uri": "https://localhost:8080/"
        },
        "id": "3u6qCC_nVg_G",
        "outputId": "5f601b0b-6c0f-4d12-e1fa-f62b1d4e2145"
      },
      "execution_count": 6,
      "outputs": [
        {
          "output_type": "stream",
          "name": "stdout",
          "text": [
            "tensor([0.6590, 0.2424, 0.0986])\n"
          ]
        }
      ]
    },
    {
      "cell_type": "code",
      "source": [],
      "metadata": {
        "id": "5a85lglOVyc3"
      },
      "execution_count": 6,
      "outputs": []
    },
    {
      "cell_type": "code",
      "source": [],
      "metadata": {
        "id": "14utnPyiXKA4"
      },
      "execution_count": 6,
      "outputs": []
    },
    {
      "cell_type": "markdown",
      "source": [
        "## Cross Entropy"
      ],
      "metadata": {
        "id": "yjfpTwgrXLDu"
      }
    },
    {
      "cell_type": "code",
      "source": [
        "def crossEntropy(actual , predicted):\n",
        "  loss = -np.sum(actual * np.log(predicted)) \n",
        "  return loss"
      ],
      "metadata": {
        "id": "bFQV2q5iXKc_"
      },
      "execution_count": 7,
      "outputs": []
    },
    {
      "cell_type": "code",
      "source": [
        "Y = np.array([1, 0, 0])\n",
        "Y_pred_good = np.array([0.7, 0.2, 0.1])\n",
        "Y_pred_bad = np.array([0.1, 0.3, 0.6])\n",
        "l1 = crossEntropy(Y, Y_pred_good)\n",
        "l2 = crossEntropy(Y, Y_pred_bad)\n",
        "print(f'Loss1 numpy Good: {l1:.4f}')\n",
        "print(f'Loss2 numpy Bad: {l2:.4f}')\n"
      ],
      "metadata": {
        "colab": {
          "base_uri": "https://localhost:8080/"
        },
        "id": "ItZYrQWhXkEu",
        "outputId": "b68563d3-b450-41f1-e7fa-d2484cce57fa"
      },
      "execution_count": 8,
      "outputs": [
        {
          "output_type": "stream",
          "name": "stdout",
          "text": [
            "Loss1 numpy Good: 0.3567\n",
            "Loss2 numpy Bad: 2.3026\n"
          ]
        }
      ]
    },
    {
      "cell_type": "markdown",
      "source": [
        "## Torch"
      ],
      "metadata": {
        "id": "uc_sN5u6YnQA"
      }
    },
    {
      "cell_type": "code",
      "source": [
        "# we must not emplement the softmax layer\n",
        "loss = nn.CrossEntropyLoss()"
      ],
      "metadata": {
        "id": "ZCIpDMg9XvXd"
      },
      "execution_count": 9,
      "outputs": []
    },
    {
      "cell_type": "code",
      "source": [
        "Y = torch.tensor([0])\n",
        "Y"
      ],
      "metadata": {
        "colab": {
          "base_uri": "https://localhost:8080/"
        },
        "id": "Ya0TOvAMZCof",
        "outputId": "c2ac5b29-1a78-4059-8dfe-990af00fb977"
      },
      "execution_count": 10,
      "outputs": [
        {
          "output_type": "execute_result",
          "data": {
            "text/plain": [
              "tensor([0])"
            ]
          },
          "metadata": {},
          "execution_count": 10
        }
      ]
    },
    {
      "cell_type": "code",
      "source": [
        "Y_pred_good = torch.tensor([[2.0, 1.0, 0.1]])\n",
        "Y_pred_bad = torch.tensor([[0.5, 2.0, 0.3]])\n",
        "l1 = loss(Y_pred_good, Y)\n",
        "l2 = loss(Y_pred_bad, Y)\n",
        "\n",
        "print(f'PyTorch Loss1: {l1.item():.4f}')\n",
        "print(f'PyTorch Loss2: {l2.item():.4f}')\n"
      ],
      "metadata": {
        "colab": {
          "base_uri": "https://localhost:8080/"
        },
        "id": "_SEkqv3_ZC6m",
        "outputId": "f1a9f7d0-d3af-4c1c-cbbe-a8b7a8f0308f"
      },
      "execution_count": 11,
      "outputs": [
        {
          "output_type": "stream",
          "name": "stdout",
          "text": [
            "PyTorch Loss1: 0.4170\n",
            "PyTorch Loss2: 1.8406\n"
          ]
        }
      ]
    },
    {
      "cell_type": "code",
      "source": [],
      "metadata": {
        "id": "qIU6DaOnaeI3"
      },
      "execution_count": 11,
      "outputs": []
    },
    {
      "cell_type": "code",
      "source": [],
      "metadata": {
        "id": "HFz0wkVM0_HN"
      },
      "execution_count": 11,
      "outputs": []
    },
    {
      "cell_type": "markdown",
      "source": [
        "# Neural Network"
      ],
      "metadata": {
        "id": "d9XfH43b1CKZ"
      }
    },
    {
      "cell_type": "code",
      "source": [
        "class NeuralNet(nn.Module):\n",
        "\n",
        "  def __init__(self,inputSize , hiddenState , numClasses):\n",
        "    super(NeuralNet,self).__init__()\n",
        "\n",
        "    self.linear1 = nn.Linear(inputSize,hiddenState)\n",
        "    self.relu = nn.ReLU()\n",
        "    self.linear2 = nn.Linear(hiddenState,numClasses)\n",
        "  def forward(self,x):\n",
        "    net = self.linear1(x)\n",
        "    net = self.relu(net)\n",
        "    net = self.linear2(net)\n",
        "    # no softmax at the end\n",
        "    return net"
      ],
      "metadata": {
        "id": "OJH82A-B0_gx"
      },
      "execution_count": 13,
      "outputs": []
    },
    {
      "cell_type": "code",
      "source": [
        "model = NeuralNet(28*28 , 5 , 3)\n",
        "\n",
        "criterion = nn.CrossEntropyLoss() # applies softmax"
      ],
      "metadata": {
        "id": "ON_Bmn7N17JG"
      },
      "execution_count": 14,
      "outputs": []
    },
    {
      "cell_type": "code",
      "source": [
        "# in previous network we implement mutpliclass prediction to compute the loss we must not add softmax layer at the end\n",
        "# if we implement binary class prediction we can use Binary cross entropy and we must apply softmax at the end"
      ],
      "metadata": {
        "id": "F6o7lSZd2rnx"
      },
      "execution_count": 15,
      "outputs": []
    },
    {
      "cell_type": "code",
      "source": [],
      "metadata": {
        "id": "RKJruYUo4Xhj"
      },
      "execution_count": null,
      "outputs": []
    }
  ]
}