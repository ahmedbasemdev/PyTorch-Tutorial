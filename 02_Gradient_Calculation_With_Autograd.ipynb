{
  "nbformat": 4,
  "nbformat_minor": 0,
  "metadata": {
    "colab": {
      "provenance": [],
      "authorship_tag": "ABX9TyMk2PbBy6GqIdbBhjTzaJLC",
      "include_colab_link": true
    },
    "kernelspec": {
      "name": "python3",
      "display_name": "Python 3"
    },
    "language_info": {
      "name": "python"
    }
  },
  "cells": [
    {
      "cell_type": "markdown",
      "metadata": {
        "id": "view-in-github",
        "colab_type": "text"
      },
      "source": [
        "<a href=\"https://colab.research.google.com/github/ahmedbasemdev/PyTorch-Tutorial/blob/main/02_Gradient_Calculation_With_Autograd.ipynb\" target=\"_parent\"><img src=\"https://colab.research.google.com/assets/colab-badge.svg\" alt=\"Open In Colab\"/></a>"
      ]
    },
    {
      "cell_type": "code",
      "execution_count": 11,
      "metadata": {
        "id": "mF_Wy9OG9gd3"
      },
      "outputs": [],
      "source": [
        "import torch"
      ]
    },
    {
      "cell_type": "markdown",
      "source": [
        "let's say later we want to calculate the gradient of some function with respect to x then what we have to do is we must specify the argument **requires_grad=True**"
      ],
      "metadata": {
        "id": "8D_A-mG6-J_G"
      }
    },
    {
      "cell_type": "code",
      "source": [
        "x = torch.randn(3,requires_grad=True)\n",
        "print(x)"
      ],
      "metadata": {
        "colab": {
          "base_uri": "https://localhost:8080/"
        },
        "id": "gHjJaNbE91f9",
        "outputId": "42789fe4-2c08-4987-ea8a-4fdca5087e41"
      },
      "execution_count": 12,
      "outputs": [
        {
          "output_type": "stream",
          "name": "stdout",
          "text": [
            "tensor([-0.7448, -0.2746, -0.8267], requires_grad=True)\n"
          ]
        }
      ]
    },
    {
      "cell_type": "code",
      "source": [
        "y = x +2\n",
        "print(y)"
      ],
      "metadata": {
        "colab": {
          "base_uri": "https://localhost:8080/"
        },
        "id": "04mMliGT-BT2",
        "outputId": "0d93227a-afd4-4149-d3cf-61f12e3aba11"
      },
      "execution_count": 13,
      "outputs": [
        {
          "output_type": "stream",
          "name": "stdout",
          "text": [
            "tensor([1.2552, 1.7254, 1.1733], grad_fn=<AddBackward0>)\n"
          ]
        }
      ]
    },
    {
      "cell_type": "code",
      "source": [
        "z = y*y*2\n",
        "z = z.mean()\n",
        "print(z)"
      ],
      "metadata": {
        "colab": {
          "base_uri": "https://localhost:8080/"
        },
        "id": "_kTBTYOq-x80",
        "outputId": "30f94a0a-46cb-404a-8537-dc457a0b80e9"
      },
      "execution_count": 14,
      "outputs": [
        {
          "output_type": "stream",
          "name": "stdout",
          "text": [
            "tensor(3.9527, grad_fn=<MeanBackward0>)\n"
          ]
        }
      ]
    },
    {
      "cell_type": "code",
      "source": [
        "# calculate the gradient of z respect to x\n",
        "z.backward()\n",
        "print(x.grad)"
      ],
      "metadata": {
        "colab": {
          "base_uri": "https://localhost:8080/"
        },
        "id": "mTjJlS04EPOP",
        "outputId": "7cde0be5-01b7-454b-ed14-cf9524a2b996"
      },
      "execution_count": 15,
      "outputs": [
        {
          "output_type": "stream",
          "name": "stdout",
          "text": [
            "tensor([1.6736, 2.3005, 1.5645])\n"
          ]
        }
      ]
    },
    {
      "cell_type": "code",
      "source": [
        "# prevent x from trakking the gradient\n",
        "x.requires_grad_(False)\n",
        "# or\n",
        "y = x.detach()\n",
        "# or\n",
        "with torch.no_grad():\n",
        "  y = x + 2 \n",
        "  print"
      ],
      "metadata": {
        "id": "z0X9Y-fOEb-n"
      },
      "execution_count": 17,
      "outputs": []
    },
    {
      "cell_type": "markdown",
      "source": [
        "\n",
        "### !!! We need to be careful during optimization !!!\n",
        "because backward() accumulates the gradient for this tensor into .grad attribute.\n",
        "Use .zero_() to empty the gradients before a new optimization step!\n"
      ],
      "metadata": {
        "id": "LvOo88o6LN6v"
      }
    },
    {
      "cell_type": "code",
      "source": [
        "weights = torch.ones(4, requires_grad=True)\n",
        "\n",
        "for epoch in range(3):\n",
        "    # just a dummy example\n",
        "    model_output = (weights*3).sum()\n",
        "    model_output.backward()\n",
        "    \n",
        "    print(weights.grad)\n",
        "    weights.grad.zero_()"
      ],
      "metadata": {
        "colab": {
          "base_uri": "https://localhost:8080/"
        },
        "id": "aEXMDQIpKka5",
        "outputId": "3d001bc3-3845-49f6-a8b1-634077a889bd"
      },
      "execution_count": 21,
      "outputs": [
        {
          "output_type": "stream",
          "name": "stdout",
          "text": [
            "tensor([3., 3., 3., 3.])\n",
            "tensor([3., 3., 3., 3.])\n",
            "tensor([3., 3., 3., 3.])\n"
          ]
        }
      ]
    },
    {
      "cell_type": "code",
      "source": [],
      "metadata": {
        "id": "HXJGViZXLiSa"
      },
      "execution_count": null,
      "outputs": []
    }
  ]
}